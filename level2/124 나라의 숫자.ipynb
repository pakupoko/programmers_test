{
 "cells": [
  {
   "cell_type": "code",
   "execution_count": null,
   "metadata": {},
   "outputs": [],
   "source": [
    "def solution(n):\n",
    "    answer = \"\"\n",
    "    while True:\n",
    "        if n == 0:\n",
    "            break\n",
    "            \n",
    "        if n % 3 == 0:\n",
    "            answer = \"4\" + answer\n",
    "            n = n // 3 - 1\n",
    "        else:\n",
    "            if n % 3 == 1:\n",
    "                answer = \"1\" + answer\n",
    "            elif n % 3 == 2:\n",
    "                answer = \"2\" + answer\n",
    "            n //= 3\n",
    "    return answer"
   ]
  }
 ],
 "metadata": {
  "kernelspec": {
   "display_name": "Python 3",
   "language": "python",
   "name": "python3"
  },
  "language_info": {
   "codemirror_mode": {
    "name": "ipython",
    "version": 3
   },
   "file_extension": ".py",
   "mimetype": "text/x-python",
   "name": "python",
   "nbconvert_exporter": "python",
   "pygments_lexer": "ipython3",
   "version": "3.7.3"
  }
 },
 "nbformat": 4,
 "nbformat_minor": 2
}

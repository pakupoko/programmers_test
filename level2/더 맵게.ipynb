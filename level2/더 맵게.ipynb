{
 "cells": [
  {
   "cell_type": "code",
   "execution_count": null,
   "metadata": {},
   "outputs": [],
   "source": [
    "\"\"\"\n",
    "heap을 활용하여 푸는 문제.\n",
    "파이썬에 heapq 모듈을 활용하면 매우 간단해진다.\n",
    "import heappq\n",
    "heapq.heappush(list, num) -> 리스트에 값을 넣는다. 리스트에 들어간 값은 힙 정렬에 맞게 배치된다\n",
    "heapq.headpop(list) -> 리스트에서 제일 작은 값을 뺀다.list[idx] 형태로 입력시 해당 값을 뺀다\n",
    "\"\"\"\n",
    "\n",
    "import heapq\n",
    "def solution(scoville, K):\n",
    "    answer = 0\n",
    "    heap = []\n",
    "    #모든 값을 힙 정렬함\n",
    "    for num in scoville:\n",
    "        heapq.heappush(heap, num)\n",
    "    \n",
    "    while heap[0] < K: #맨 처음 값이 기준 값보다 클 때까지 계산을 시도한다.\n",
    "        try:\n",
    "            #제일 작은 값과 그다음 작은 값을 추출하여 계산한다, heappush를 통해 list에 들어가는 결과값은 힙 정렬이 되어 들어간다.\n",
    "            heapq.heappush(heap, heapq.heappop(heap) + heapq.heappop(heap) * 2)\n",
    "        except IndexError: #위의 계산을 반복하다 결과를 도출하지 못하고 힙 리스트가 작살나면 그대로 -1 리턴\n",
    "            return -1\n",
    "        answer += 1        \n",
    "    return answer"
   ]
  }
 ],
 "metadata": {
  "kernelspec": {
   "display_name": "Python 3",
   "language": "python",
   "name": "python3"
  },
  "language_info": {
   "codemirror_mode": {
    "name": "ipython",
    "version": 3
   },
   "file_extension": ".py",
   "mimetype": "text/x-python",
   "name": "python",
   "nbconvert_exporter": "python",
   "pygments_lexer": "ipython3",
   "version": "3.7.3"
  }
 },
 "nbformat": 4,
 "nbformat_minor": 2
}

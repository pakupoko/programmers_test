{
 "cells": [
  {
   "cell_type": "code",
   "execution_count": null,
   "metadata": {},
   "outputs": [],
   "source": [
    "def solution(arrangement):\n",
    "    answer = 0\n",
    "    #()를 레이저로 바꿔서 쇠막대기와 구분하게 함\n",
    "    arrangement = arrangement.replace(\"()\",\"0\")\n",
    "    \n",
    "    bk_ls=[]\n",
    "    for bk in arrangement:\n",
    "        if bk == \"(\": # (면 쇠막대기 하나 추가\n",
    "            bk_ls.append(bk)\n",
    "        elif bk == \")\": # )면 쇠막대기 하나 뺌. 빠지면서 하나 더하기\n",
    "            bk_ls.pop(-1)\n",
    "            answer += 1\n",
    "        elif bk == \"0\": #레이저 만나면 현재 스택에 쌓여있는 쇠막대기 수 만큼 더하기\n",
    "            answer += len(bk_ls)\n",
    "            \n",
    "    return answer"
   ]
  }
 ],
 "metadata": {
  "kernelspec": {
   "display_name": "Python 3",
   "language": "python",
   "name": "python3"
  },
  "language_info": {
   "codemirror_mode": {
    "name": "ipython",
    "version": 3
   },
   "file_extension": ".py",
   "mimetype": "text/x-python",
   "name": "python",
   "nbconvert_exporter": "python",
   "pygments_lexer": "ipython3",
   "version": "3.7.3"
  }
 },
 "nbformat": 4,
 "nbformat_minor": 2
}

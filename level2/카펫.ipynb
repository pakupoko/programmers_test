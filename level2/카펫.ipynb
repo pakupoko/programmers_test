{
 "cells": [
  {
   "cell_type": "code",
   "execution_count": 3,
   "metadata": {},
   "outputs": [],
   "source": [
    "\"\"\"\n",
    "완전 탐색을 활용한 문제\n",
    "자연수 곱의 쌍을 찾는 것이 주 목표임\n",
    "세로값은 가로값보다 작거나 같기 때문에, 세로값으로 for 문을 작성\n",
    "red 카펫 수의 제곱근을 취하여 세로 값의 최대치를 설정\n",
    "이후 세로 값이 red 총 갯수에 나누어 떨어진다고 하면, 가로값은 세로값//red 총 갯수로 설정\n",
    "식(가로 * 2) + (세로 * 2) + 4 가 brown 갯수랑 동일할 시 리턴. 아니면 for문 계속 진행\n",
    "\"\"\"\n",
    "def solution(brown, red):\n",
    "    for height in range(1, int(red**0.5)+1):\n",
    "        if not red % height:\n",
    "            width = red // height\n",
    "            if width*2 + height*2 + 4 == brown:\n",
    "                return [width+2, height+2]"
   ]
  },
  {
   "cell_type": "code",
   "execution_count": null,
   "metadata": {},
   "outputs": [],
   "source": []
  }
 ],
 "metadata": {
  "kernelspec": {
   "display_name": "Python 3",
   "language": "python",
   "name": "python3"
  },
  "language_info": {
   "codemirror_mode": {
    "name": "ipython",
    "version": 3
   },
   "file_extension": ".py",
   "mimetype": "text/x-python",
   "name": "python",
   "nbconvert_exporter": "python",
   "pygments_lexer": "ipython3",
   "version": "3.7.3"
  }
 },
 "nbformat": 4,
 "nbformat_minor": 2
}

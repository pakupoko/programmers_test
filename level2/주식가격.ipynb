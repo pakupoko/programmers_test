{
 "cells": [
  {
   "cell_type": "code",
   "execution_count": null,
   "metadata": {},
   "outputs": [],
   "source": [
    "def solution(prices):\n",
    "    answer = [0 for i in prices]\n",
    "    for i in range(len(prices)):\n",
    "        cnt = 0\n",
    "        flag = 0\n",
    "        for j in range(i+1, len(prices)):\n",
    "            if prices[i]>prices[j]:\n",
    "                answer[i] = cnt+1\n",
    "                flag = 1\n",
    "                break\n",
    "            cnt+=1\n",
    "        if flag == 0:\n",
    "            answer[i] = cnt\n",
    "    return answer"
   ]
  }
 ],
 "metadata": {
  "kernelspec": {
   "display_name": "Python 3",
   "language": "python",
   "name": "python3"
  },
  "language_info": {
   "codemirror_mode": {
    "name": "ipython",
    "version": 3
   },
   "file_extension": ".py",
   "mimetype": "text/x-python",
   "name": "python",
   "nbconvert_exporter": "python",
   "pygments_lexer": "ipython3",
   "version": "3.7.3"
  }
 },
 "nbformat": 4,
 "nbformat_minor": 2
}

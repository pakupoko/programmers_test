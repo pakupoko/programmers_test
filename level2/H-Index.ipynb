{
 "cells": [
  {
   "cell_type": "code",
   "execution_count": null,
   "metadata": {},
   "outputs": [],
   "source": [
    "def solution(citations):\n",
    "    answer = 0\n",
    "    citations.sort(reverse=True) #정렬, 최대값부터 차례대로 확인\n",
    "    for idx, val in enumerate(citations):\n",
    "        if val<=idx: #idx와 값이 역전하는 순간이 h값\n",
    "            return idx\n",
    "    return len(citations) #끝까지 나오지 않았을 경우 그냥 citations 총 갯수로 출력"
   ]
  }
 ],
 "metadata": {
  "kernelspec": {
   "display_name": "Python 3",
   "language": "python",
   "name": "python3"
  },
  "language_info": {
   "codemirror_mode": {
    "name": "ipython",
    "version": 3
   },
   "file_extension": ".py",
   "mimetype": "text/x-python",
   "name": "python",
   "nbconvert_exporter": "python",
   "pygments_lexer": "ipython3",
   "version": "3.7.3"
  }
 },
 "nbformat": 4,
 "nbformat_minor": 2
}

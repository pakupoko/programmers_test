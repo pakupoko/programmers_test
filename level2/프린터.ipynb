{
 "cells": [
  {
   "cell_type": "code",
   "execution_count": null,
   "metadata": {},
   "outputs": [],
   "source": [
    "def solution(priorities, location):\n",
    "    #처리할 작업들 라벨링\n",
    "    loc_ls = []\n",
    "    for idx, val in enumerate(priorities):\n",
    "        loc_ls.append(idx)\n",
    "        \n",
    "    answer = 0\n",
    "    while True:\n",
    "        flag = 0\n",
    "        first = priorities[0]\n",
    "        #맨 앞의 값과 나머지 값들 우선순위 비교\n",
    "        for i in range(1,len(priorities)):\n",
    "            if first < priorities[i]: #큰 값이 존재할 경우 뒤로 보내버림\n",
    "                last = priorities.pop(0)\n",
    "                last_loc = loc_ls.pop(0)\n",
    "                priorities.append(last)\n",
    "                loc_ls.append(last_loc)\n",
    "                flag = 1 #뒤로 보내졌는지 안보내졌는지 판별\n",
    "                break\n",
    "     \n",
    "        if flag == 0: #우선순위 최상위일 때 처리\n",
    "            answer += 1 #탈출 순위 책정\n",
    "            if loc_ls[0] == location: #내가 처리하고자 하는 작업이 우선순위 최상위일 때 무한루프 탈출\n",
    "                break\n",
    "            priorities.pop(0)\n",
    "            loc_ls.pop(0)\n",
    "    \n",
    "    return answer"
   ]
  }
 ],
 "metadata": {
  "kernelspec": {
   "display_name": "Python 3",
   "language": "python",
   "name": "python3"
  },
  "language_info": {
   "codemirror_mode": {
    "name": "ipython",
    "version": 3
   },
   "file_extension": ".py",
   "mimetype": "text/x-python",
   "name": "python",
   "nbconvert_exporter": "python",
   "pygments_lexer": "ipython3",
   "version": "3.7.3"
  }
 },
 "nbformat": 4,
 "nbformat_minor": 2
}

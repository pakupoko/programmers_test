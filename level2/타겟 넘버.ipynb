{
 "cells": [
  {
   "cell_type": "code",
   "execution_count": 12,
   "metadata": {},
   "outputs": [],
   "source": [
    "\"\"\"\n",
    "DFS(깊이 우선 탐색)으로 푸는 문제\n",
    "재귀함수를 적극활용하여 깊이 우선 탐색 그래프를 그릴 수 있다\n",
    "리스트의 인덱스는 트리의 깊이를 표현한다\n",
    "인덱스가 숫자 갯수를 넘어갔을 때, 타겟 넘버가 만들어졌는지 판별 후 맞으면 카운트를 한다\n",
    "\"\"\"\n",
    "def solution(numbers, target):\n",
    "    answer = 0\n",
    "    len_n = len(numbers) #트리의 깊이 설정\n",
    "    def operation(idx=0):\n",
    "        if idx < len_n: #아직 터미널 노드에 도달하지 않았을 시\n",
    "            numbers[idx] *= 1 # + 일때 계산\n",
    "            operation(idx+1) # 재귀 호출 하여 다음 층 계산\n",
    "            \n",
    "            numbers[idx] *= -1 # - 일때 계산\n",
    "            operation(idx+1) # 재귀 호출하여 다음 층 계산\n",
    "        \n",
    "        elif sum(numbers) == target: #터미널 노드에 도달했을 시, 타겟 넘버가 만들어졌는지 체크\n",
    "            nonlocal answer\n",
    "            answer += 1\n",
    "    \n",
    "    operation()\n",
    "    return answer"
   ]
  },
  {
   "cell_type": "code",
   "execution_count": null,
   "metadata": {},
   "outputs": [],
   "source": []
  }
 ],
 "metadata": {
  "kernelspec": {
   "display_name": "Python 3",
   "language": "python",
   "name": "python3"
  },
  "language_info": {
   "codemirror_mode": {
    "name": "ipython",
    "version": 3
   },
   "file_extension": ".py",
   "mimetype": "text/x-python",
   "name": "python",
   "nbconvert_exporter": "python",
   "pygments_lexer": "ipython3",
   "version": "3.7.3"
  }
 },
 "nbformat": 4,
 "nbformat_minor": 2
}

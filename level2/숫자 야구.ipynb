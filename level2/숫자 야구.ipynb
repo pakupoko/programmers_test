{
 "cells": [
  {
   "cell_type": "code",
   "execution_count": 6,
   "metadata": {},
   "outputs": [
    {
     "name": "stdout",
     "output_type": "stream",
     "text": [
      "[2, 4, 5]\n"
     ]
    }
   ],
   "source": [
    "\"\"\"\n",
    "완전 탐색을 예시로 주어줬다.\n",
    "완전 탐색  예시들\n",
    "Brute Force : for문과 if문을 이용하여 처음부터 끝까지 탐색하는 방법\n",
    "비트마스크\n",
    "순열 : 순열의 시간 복잡도는 O(N!)\n",
    "백트래킹\n",
    "BFS\n",
    "예시를 보면 하여튼 모든 경우의 수를 따진다음에 거기서 적합한 경우를 찾아내는 걸 말합니다.\n",
    "이 코드에서 쓰인 건 순열(Permutation)이고, 순열 또한 미친것 같지만 있습니다, 라이브러리가.\n",
    "라이브러리 모르면 아무것도 못푸는 거에여\n",
    "\n",
    "순서는\n",
    "1.순열로 조합 만들기. 여기선 1~9의 수 중 중복되지 않는 3개의 수를 찾은 것. 9P3 리스트 생성\n",
    "2.테스트 셋들을 for문으로 읽어옴.\n",
    "3.순열조합 리스트를 하나하나 가져오면서 테스트 값과 비교. 해당되지 않을 경우 조합 리스트에서 값을 제거.\n",
    "4.순열 리스트에서 남은 값 개수를 가져와서 출력\n",
    "\"\"\"\n",
    "from itertools import permutations #순열 조합을 만들 수 있는 모듈 호출\n",
    "\n",
    "#테스트 값과 순열 리스트 원소(후보값) 하나 비교\n",
    "def check(value, candi, strike, ball):\n",
    "    s = 0 ; b = 0\n",
    "    #스트라이크 비교\n",
    "    for idx,val in enumerate(value):\n",
    "        if value[idx] == candi[idx]:\n",
    "            s += 1\n",
    "    if s != strike:#후보값과 테스트 값을 비교하여 도출한 스트라이크 개수와 테스트셋에서 제공된 스트라이크 개수 비교\n",
    "        return False\n",
    "    \n",
    "    #볼 비교\n",
    "    b = len(set(list(value)) & set(list(candi))) - s #테스트 값과 후보값의 교집합 갯수를 구한후 스트라이크 값 개수 제거\n",
    "    if b != ball:\n",
    "        return False\n",
    "    return True\n",
    "\n",
    "#계산 시작\n",
    "def solution(baseball):\n",
    "    per = list(permutations([1,2,3,4,5,6,7,8,9],3)) #순열 조합 9P3 리스트 만듦\n",
    "    for i in baseball:\n",
    "        for candis in per[:]:\n",
    "            #비교 함수에 순열 조합 원소 한개와 테스트 값을 하나씩 넣고 체크\n",
    "            if not check([int(j) for j in list(str(i[0]))], candis, i[1],i[2]):\n",
    "                per.remove(candis) #조건이 맞지 않을 경우 제거\n",
    "        \n",
    "    return len(per)"
   ]
  },
  {
   "cell_type": "code",
   "execution_count": null,
   "metadata": {},
   "outputs": [],
   "source": []
  }
 ],
 "metadata": {
  "kernelspec": {
   "display_name": "Python 3",
   "language": "python",
   "name": "python3"
  },
  "language_info": {
   "codemirror_mode": {
    "name": "ipython",
    "version": 3
   },
   "file_extension": ".py",
   "mimetype": "text/x-python",
   "name": "python",
   "nbconvert_exporter": "python",
   "pygments_lexer": "ipython3",
   "version": "3.7.3"
  }
 },
 "nbformat": 4,
 "nbformat_minor": 2
}

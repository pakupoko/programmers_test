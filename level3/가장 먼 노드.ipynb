{
 "cells": [
  {
   "cell_type": "code",
   "execution_count": 10,
   "metadata": {},
   "outputs": [],
   "source": [
    "\"\"\"\n",
    "BFS방식을 활용하여 답을 구하는 문제\n",
    "1. 먼저 edge를 BFS를 활용할 수 있도록 재배치 한다.\n",
    "    - edge에 라벨링된 노드를 idx와 탐색 노드 형식으로 새 리스트에 넣는다\n",
    "    - 서로 연결되어있기 때문에, 반대로도 새 리스트에 넣는다\n",
    "2. 1을 기준으로 얼마나 근접한가 계산할 것이기에, 노드갯수 만큼 0으로\n",
    "    채워진 answer 리스트를 만든다(0번 + n개, 즉 n+1)\n",
    "    answer 리스트의 0번째와 1번째는 -1로 입력하여 무한루프를 방지한다.\n",
    "3. queue 리스트를 생성한다. 초기값은 [1]로,\n",
    "    근처의 노드들을 저장하고 빼주는 역할을 한다\n",
    "4. queue 리스트의 값의 edge들을 탐색하면서,\n",
    "    연결되어있는 노드 번호를 idx로,\n",
    "    만일 answer[idx]에 값이 0이면(방문하지 않았음을 의미)\n",
    "    answer[idx]에 count 한다.\n",
    "    그리고 임시 리스트에 방문한 노드를 넣어둔다\n",
    "    for문이 한 차례 끝나면 queue에 기존 값을 제거하고 방문한 노드를 입력한다\n",
    "5. 4를 몇차례 돌리고, answer의 모든 값이 0이 아닐 경우 탈출하여\n",
    "    answer에서 최대값의 갯수를 센다.\n",
    "\"\"\"\n",
    "def solution(n, edge):\n",
    "    answer = [0]*(n+1) #근접 거리를 계산할 리스트\n",
    "    newedge=[[] for i in range(len(edge)+1)] #새롭게 생성할 엣지 리스트, 인덱스가 노드 번호에 대응한다.\n",
    "    \n",
    "    #세로운 edge 리스트에 대입\n",
    "    for i in range(len(edge)):\n",
    "        #[2,3] 일경우, 3번 노드가 새 엣지 리스트[2]에 있냐 파악, 안 들어갔으면 느어\n",
    "        if not edge[i][1] in newedge[edge[i][0]]:\n",
    "            newedge[edge[i][0]].append(edge[i][1])\n",
    "            newedge[edge[i][0]].sort()\n",
    "        #[2,3] 일경우, 2번 노드가 새 엣지 리스트[3]에 있냐 파악, 안 들어갔으면 느어\n",
    "        if not edge[i][0] in newedge[edge[i][1]]:\n",
    "            newedge[edge[i][1]].append(edge[i][0])\n",
    "            newedge[edge[i][1]].sort()\n",
    "    answer[0], answer[1] = -1, -1 #0번, 1번은 방문할 필요가 없으므로 -1 넣어둠\n",
    "    queue=[1] #초기 큐. 1번부터 시작\n",
    "    count=1 #근접 거리. 한차례 큐를 돌릴 때 마다 1씩 증가 예정\n",
    "    \n",
    "    #거리 계산\n",
    "    while not all(answer): #answer 리스트가 모두 0이 아니면 탈출\n",
    "        tmp = []\n",
    "        for start in queue:\n",
    "            for i in newedge[start]:\n",
    "                if answer[i] == 0: #answer 리스트가 비어있냐(노드에 접근 한 적 없냐)\n",
    "                    answer[i] += count #카운트\n",
    "                    tmp.append(i) #접근한 노드 입력\n",
    "        queue=tmp\n",
    "        count+=1\n",
    "    return answer.count(max(answer)) #answer에서 숫자 제일 큰거, 즉 거리가 제일 먼 것"
   ]
  },
  {
   "cell_type": "code",
   "execution_count": null,
   "metadata": {},
   "outputs": [],
   "source": []
  }
 ],
 "metadata": {
  "kernelspec": {
   "display_name": "Python 3",
   "language": "python",
   "name": "python3"
  },
  "language_info": {
   "codemirror_mode": {
    "name": "ipython",
    "version": 3
   },
   "file_extension": ".py",
   "mimetype": "text/x-python",
   "name": "python",
   "nbconvert_exporter": "python",
   "pygments_lexer": "ipython3",
   "version": "3.7.3"
  }
 },
 "nbformat": 4,
 "nbformat_minor": 2
}

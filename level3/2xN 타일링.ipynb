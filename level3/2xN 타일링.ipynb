{
 "cells": [
  {
   "cell_type": "markdown",
   "metadata": {},
   "source": [
    "# 2 * N 타일링\n",
    "\n",
    "<hr>\n",
    "\n",
    "전형적인 다이나믹 프로그래밍 사례.\n",
    "현재의 타일 갯수는, 과거의 타일이 세로로 하나(2 * 1)였나 가로로 겹친 두 개(2 * 2) 였나에 영향을 받는다.\n",
    "\n",
    "코드에서는 list 형태로 구현, 현재 행이 이전 행과 이전 이전 행의 합으로 구현된다."
   ]
  },
  {
   "cell_type": "code",
   "execution_count": null,
   "metadata": {},
   "outputs": [],
   "source": [
    "def solution(n):\n",
    "    tile = []\n",
    "    tile.append(1); tile.append(1)\n",
    "    for i in range(2, n+1):\n",
    "        tile.append((tile[i-1] + tile[i-2]) % 1000000007)\n",
    "    return tile[n]"
   ]
  }
 ],
 "metadata": {
  "kernelspec": {
   "display_name": "Python 3",
   "language": "python",
   "name": "python3"
  },
  "language_info": {
   "codemirror_mode": {
    "name": "ipython",
    "version": 3
   },
   "file_extension": ".py",
   "mimetype": "text/x-python",
   "name": "python",
   "nbconvert_exporter": "python",
   "pygments_lexer": "ipython3",
   "version": "3.7.3"
  }
 },
 "nbformat": 4,
 "nbformat_minor": 2
}
